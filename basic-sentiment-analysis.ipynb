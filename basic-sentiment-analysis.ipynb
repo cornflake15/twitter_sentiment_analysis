{
  "nbformat": 4,
  "nbformat_minor": 0,
  "metadata": {
    "kernelspec": {
      "display_name": "Python 3",
      "language": "python",
      "name": "python3"
    },
    "language_info": {
      "codemirror_mode": {
        "name": "ipython",
        "version": 3
      },
      "file_extension": ".py",
      "mimetype": "text/x-python",
      "name": "python",
      "nbconvert_exporter": "python",
      "pygments_lexer": "ipython3",
      "version": "3.8.3"
    },
    "colab": {
      "name": "basic-sentiment-analysis.ipynb",
      "provenance": [],
      "toc_visible": true,
      "include_colab_link": true
    }
  },
  "cells": [
    {
      "cell_type": "markdown",
      "metadata": {
        "id": "view-in-github",
        "colab_type": "text"
      },
      "source": [
        "<a href=\"https://colab.research.google.com/github/cornflake15/twitter_sentiment_analysis/blob/master/basic-sentiment-analysis.ipynb\" target=\"_parent\"><img src=\"https://colab.research.google.com/assets/colab-badge.svg\" alt=\"Open In Colab\"/></a>"
      ]
    },
    {
      "cell_type": "markdown",
      "metadata": {
        "id": "aI-tKkS4uW8-",
        "colab_type": "text"
      },
      "source": [
        "# Basic Sentiment Analysis with vaderSentiment"
      ]
    },
    {
      "cell_type": "markdown",
      "metadata": {
        "id": "tkC-9Sz_wQ3M",
        "colab_type": "text"
      },
      "source": [
        "## Prerequisites\n",
        "Python Modules:\n",
        "  - Pandas\n",
        "  - vaderSentiment\n"
      ]
    },
    {
      "cell_type": "code",
      "metadata": {
        "id": "OqKb4nEAuj6O",
        "colab_type": "code",
        "colab": {
          "base_uri": "https://localhost:8080/",
          "height": 204
        },
        "outputId": "72059262-3db2-47d6-ef5f-e93b10e87ae4"
      },
      "source": [
        "!pip install vaderSentiment # We only need install vaderSentiment if we run it on Colab"
      ],
      "execution_count": null,
      "outputs": [
        {
          "output_type": "stream",
          "text": [
            "Collecting vaderSentiment\n",
            "\u001b[?25l  Downloading https://files.pythonhosted.org/packages/76/fc/310e16254683c1ed35eeb97386986d6c00bc29df17ce280aed64d55537e9/vaderSentiment-3.3.2-py2.py3-none-any.whl (125kB)\n",
            "\r\u001b[K     |██▋                             | 10kB 14.8MB/s eta 0:00:01\r\u001b[K     |█████▏                          | 20kB 1.6MB/s eta 0:00:01\r\u001b[K     |███████▉                        | 30kB 2.3MB/s eta 0:00:01\r\u001b[K     |██████████▍                     | 40kB 2.5MB/s eta 0:00:01\r\u001b[K     |█████████████                   | 51kB 2.0MB/s eta 0:00:01\r\u001b[K     |███████████████▋                | 61kB 2.2MB/s eta 0:00:01\r\u001b[K     |██████████████████▏             | 71kB 2.4MB/s eta 0:00:01\r\u001b[K     |████████████████████▉           | 81kB 2.6MB/s eta 0:00:01\r\u001b[K     |███████████████████████▍        | 92kB 2.8MB/s eta 0:00:01\r\u001b[K     |██████████████████████████      | 102kB 2.7MB/s eta 0:00:01\r\u001b[K     |████████████████████████████▋   | 112kB 2.7MB/s eta 0:00:01\r\u001b[K     |███████████████████████████████▏| 122kB 2.7MB/s eta 0:00:01\r\u001b[K     |████████████████████████████████| 133kB 2.7MB/s \n",
            "\u001b[?25hRequirement already satisfied: requests in /usr/local/lib/python3.6/dist-packages (from vaderSentiment) (2.23.0)\n",
            "Requirement already satisfied: chardet<4,>=3.0.2 in /usr/local/lib/python3.6/dist-packages (from requests->vaderSentiment) (3.0.4)\n",
            "Requirement already satisfied: certifi>=2017.4.17 in /usr/local/lib/python3.6/dist-packages (from requests->vaderSentiment) (2020.4.5.2)\n",
            "Requirement already satisfied: urllib3!=1.25.0,!=1.25.1,<1.26,>=1.21.1 in /usr/local/lib/python3.6/dist-packages (from requests->vaderSentiment) (1.24.3)\n",
            "Requirement already satisfied: idna<3,>=2.5 in /usr/local/lib/python3.6/dist-packages (from requests->vaderSentiment) (2.9)\n",
            "Installing collected packages: vaderSentiment\n",
            "Successfully installed vaderSentiment-3.3.2\n"
          ],
          "name": "stdout"
        }
      ]
    },
    {
      "cell_type": "markdown",
      "metadata": {
        "id": "Y9Y5bb23ws4S",
        "colab_type": "text"
      },
      "source": [
        "## How to add the dataset to Google Colab?\n",
        "1. Copy the dataset to your own gdrive \n",
        "  - https://drive.google.com/drive/folders/1DeDNCpQAjwKQqau1cR2druHlsWJWF50f?usp=sharing\n",
        "\n",
        "2. Mount to Google Drive as written in code below"
      ]
    },
    {
      "cell_type": "code",
      "metadata": {
        "id": "GrZwmy67vpMd",
        "colab_type": "code",
        "colab": {
          "base_uri": "https://localhost:8080/",
          "height": 120
        },
        "outputId": "1e25a8d7-0d31-4255-a0a2-d879da30fd03"
      },
      "source": [
        "from google.colab import drive, files\n",
        "drive.mount('/content/gdrive/')"
      ],
      "execution_count": null,
      "outputs": [
        {
          "output_type": "stream",
          "text": [
            "Go to this URL in a browser: https://accounts.google.com/o/oauth2/auth?client_id=947318989803-6bn6qk8qdgf4n4g3pfee6491hc0brc4i.apps.googleusercontent.com&redirect_uri=urn%3aietf%3awg%3aoauth%3a2.0%3aoob&response_type=code&scope=email%20https%3a%2f%2fwww.googleapis.com%2fauth%2fdocs.test%20https%3a%2f%2fwww.googleapis.com%2fauth%2fdrive%20https%3a%2f%2fwww.googleapis.com%2fauth%2fdrive.photos.readonly%20https%3a%2f%2fwww.googleapis.com%2fauth%2fpeopleapi.readonly\n",
            "\n",
            "Enter your authorization code:\n",
            "··········\n",
            "Mounted at /content/gdrive/\n"
          ],
          "name": "stdout"
        }
      ]
    },
    {
      "cell_type": "markdown",
      "metadata": {
        "id": "e-c7bjUYxm-K",
        "colab_type": "text"
      },
      "source": [
        "## Import the necessary module"
      ]
    },
    {
      "cell_type": "code",
      "metadata": {
        "id": "9pvG00vnuW9B",
        "colab_type": "code",
        "colab": {}
      },
      "source": [
        "from vaderSentiment.vaderSentiment import SentimentIntensityAnalyzer\n",
        "import numpy as np\n",
        "import pandas as pd"
      ],
      "execution_count": null,
      "outputs": []
    },
    {
      "cell_type": "markdown",
      "metadata": {
        "id": "u2Nhyz0Txu3r",
        "colab_type": "text"
      },
      "source": [
        "#### Read it with pandas DataFrame"
      ]
    },
    {
      "cell_type": "code",
      "metadata": {
        "id": "Aabd1QcZuW9J",
        "colab_type": "code",
        "colab": {
          "base_uri": "https://localhost:8080/",
          "height": 196
        },
        "outputId": "60a44788-02be-48a3-d799-9780c9a64a0f"
      },
      "source": [
        "df = pd.read_csv('/content/gdrive/My Drive/Colab Notebooks/dataset/tweet_sample_100.csv')\n",
        "df.head()"
      ],
      "execution_count": null,
      "outputs": [
        {
          "output_type": "execute_result",
          "data": {
            "text/html": [
              "<div>\n",
              "<style scoped>\n",
              "    .dataframe tbody tr th:only-of-type {\n",
              "        vertical-align: middle;\n",
              "    }\n",
              "\n",
              "    .dataframe tbody tr th {\n",
              "        vertical-align: top;\n",
              "    }\n",
              "\n",
              "    .dataframe thead th {\n",
              "        text-align: right;\n",
              "    }\n",
              "</style>\n",
              "<table border=\"1\" class=\"dataframe\">\n",
              "  <thead>\n",
              "    <tr style=\"text-align: right;\">\n",
              "      <th></th>\n",
              "      <th>Unnamed: 0</th>\n",
              "      <th>tweet_text</th>\n",
              "    </tr>\n",
              "  </thead>\n",
              "  <tbody>\n",
              "    <tr>\n",
              "      <th>0</th>\n",
              "      <td>0</td>\n",
              "      <td>@erictile_: The reason why America isn’t recov...</td>\n",
              "    </tr>\n",
              "    <tr>\n",
              "      <th>1</th>\n",
              "      <td>1</td>\n",
              "      <td>@erictile_: The reason why America isn’t recov...</td>\n",
              "    </tr>\n",
              "    <tr>\n",
              "      <th>2</th>\n",
              "      <td>2</td>\n",
              "      <td>@itskevo254: This is the first year I'm not go...</td>\n",
              "    </tr>\n",
              "    <tr>\n",
              "      <th>3</th>\n",
              "      <td>3</td>\n",
              "      <td>@ipragyasingh1: DM agra has issued u a notice ...</td>\n",
              "    </tr>\n",
              "    <tr>\n",
              "      <th>4</th>\n",
              "      <td>4</td>\n",
              "      <td>@tveitdal: The Covid-19 pandemic is threatenin...</td>\n",
              "    </tr>\n",
              "  </tbody>\n",
              "</table>\n",
              "</div>"
            ],
            "text/plain": [
              "   Unnamed: 0                                         tweet_text\n",
              "0           0  @erictile_: The reason why America isn’t recov...\n",
              "1           1  @erictile_: The reason why America isn’t recov...\n",
              "2           2  @itskevo254: This is the first year I'm not go...\n",
              "3           3  @ipragyasingh1: DM agra has issued u a notice ...\n",
              "4           4  @tveitdal: The Covid-19 pandemic is threatenin..."
            ]
          },
          "metadata": {
            "tags": []
          },
          "execution_count": 7
        }
      ]
    },
    {
      "cell_type": "markdown",
      "metadata": {
        "id": "LIHqgcUAuW9S",
        "colab_type": "text"
      },
      "source": [
        "### Function to get the sentiments of the sentence."
      ]
    },
    {
      "cell_type": "code",
      "metadata": {
        "id": "MLVQnqH4uW9T",
        "colab_type": "code",
        "colab": {}
      },
      "source": [
        "def sentiment_scores(sentence):\n",
        "    \"\"\"\n",
        "    Create a SentimentIntensityAnalyzer object. \n",
        "    polarity_scores() method of SentimentIntensityAnalyzer.\n",
        "    object gives a sentiment dictionary\n",
        "    which contains pos, neg, neu, and compoind scores\n",
        "    \"\"\"\n",
        "    sid_obj = SentimentIntensityAnalyzer() \n",
        "    sentiment_dict = sid_obj.polarity_scores(sentence)\n",
        "    \n",
        "    return sentiment_dict\n",
        "\n",
        "# Function to remove unwanted string in the tweet\n",
        "def remove_unwanted_string(dataframe):\n",
        "    new_record = []\n",
        "    tweet_text = dataframe.apply(lambda x: str(x).split())\n",
        "    for record in tweet_text:\n",
        "        for text in record:\n",
        "            if 'RT' in text or '@' in text or '#' in text:\n",
        "                record.remove(text)\n",
        "        \n",
        "        new_record.append(' '.join(record))\n",
        "    dataframe = new_record\n",
        "    return dataframe"
      ],
      "execution_count": null,
      "outputs": []
    },
    {
      "cell_type": "markdown",
      "metadata": {
        "id": "m3Hk-lRuyU1a",
        "colab_type": "text"
      },
      "source": [
        "#### Remove unwanted string in the text"
      ]
    },
    {
      "cell_type": "code",
      "metadata": {
        "id": "dPr7tekUuW9Z",
        "colab_type": "code",
        "colab": {
          "base_uri": "https://localhost:8080/",
          "height": 196
        },
        "outputId": "7a5a3a60-3d4b-4787-8515-f62ea6a92d3c"
      },
      "source": [
        "df_tweets = pd.DataFrame()\n",
        "df_tweets['tweet_text'] = remove_unwanted_string(df['tweet_text'])\n",
        "df_tweets.head()"
      ],
      "execution_count": null,
      "outputs": [
        {
          "output_type": "execute_result",
          "data": {
            "text/html": [
              "<div>\n",
              "<style scoped>\n",
              "    .dataframe tbody tr th:only-of-type {\n",
              "        vertical-align: middle;\n",
              "    }\n",
              "\n",
              "    .dataframe tbody tr th {\n",
              "        vertical-align: top;\n",
              "    }\n",
              "\n",
              "    .dataframe thead th {\n",
              "        text-align: right;\n",
              "    }\n",
              "</style>\n",
              "<table border=\"1\" class=\"dataframe\">\n",
              "  <thead>\n",
              "    <tr style=\"text-align: right;\">\n",
              "      <th></th>\n",
              "      <th>tweet_text</th>\n",
              "    </tr>\n",
              "  </thead>\n",
              "  <tbody>\n",
              "    <tr>\n",
              "      <th>0</th>\n",
              "      <td>The reason why America isn’t recovering from C...</td>\n",
              "    </tr>\n",
              "    <tr>\n",
              "      <th>1</th>\n",
              "      <td>The reason why America isn’t recovering from C...</td>\n",
              "    </tr>\n",
              "    <tr>\n",
              "      <th>2</th>\n",
              "      <td>This is the first year I'm not going to Dubai ...</td>\n",
              "    </tr>\n",
              "    <tr>\n",
              "      <th>3</th>\n",
              "      <td>DM agra has issued u a notice for baseless ali...</td>\n",
              "    </tr>\n",
              "    <tr>\n",
              "      <th>4</th>\n",
              "      <td>The Covid-19 pandemic is threatening vital rai...</td>\n",
              "    </tr>\n",
              "  </tbody>\n",
              "</table>\n",
              "</div>"
            ],
            "text/plain": [
              "                                          tweet_text\n",
              "0  The reason why America isn’t recovering from C...\n",
              "1  The reason why America isn’t recovering from C...\n",
              "2  This is the first year I'm not going to Dubai ...\n",
              "3  DM agra has issued u a notice for baseless ali...\n",
              "4  The Covid-19 pandemic is threatening vital rai..."
            ]
          },
          "metadata": {
            "tags": []
          },
          "execution_count": 9
        }
      ]
    },
    {
      "cell_type": "markdown",
      "metadata": {
        "id": "P8NT23PQycde",
        "colab_type": "text"
      },
      "source": [
        "#### Scores the sentiment of the text"
      ]
    },
    {
      "cell_type": "code",
      "metadata": {
        "id": "3UmUWXdsuW9h",
        "colab_type": "code",
        "colab": {}
      },
      "source": [
        "pos, neg, neu, comp = [], [], [], []\n",
        "for text in df_tweets['tweet_text']:\n",
        "    sentiment = sentiment_scores(text)\n",
        "    pos.append(sentiment['pos'])\n",
        "    neg.append(sentiment['neg'])\n",
        "    neu.append(sentiment['neu'])\n",
        "    comp.append(sentiment['compound'])\n",
        "    \n",
        "df_tweets_sentiment = pd.DataFrame()\n",
        "# df_tweets_sentiment.columns = ['tweet_text', 'positive', 'negative', 'neutral', 'compound']\n",
        "df_tweets_sentiment['tweet_text'] = df_tweets['tweet_text']\n",
        "df_tweets_sentiment['positive'] = pos\n",
        "df_tweets_sentiment['negative'] = neg\n",
        "df_tweets_sentiment['neutral'] = neu\n",
        "df_tweets_sentiment['compound'] = comp"
      ],
      "execution_count": null,
      "outputs": []
    },
    {
      "cell_type": "code",
      "metadata": {
        "id": "xxesX6_suW9n",
        "colab_type": "code",
        "colab": {
          "base_uri": "https://localhost:8080/",
          "height": 196
        },
        "outputId": "7da32a76-1eb2-4f21-8d4e-8d1209d04ca4"
      },
      "source": [
        "df_tweets_sentiment.head()"
      ],
      "execution_count": null,
      "outputs": [
        {
          "output_type": "execute_result",
          "data": {
            "text/html": [
              "<div>\n",
              "<style scoped>\n",
              "    .dataframe tbody tr th:only-of-type {\n",
              "        vertical-align: middle;\n",
              "    }\n",
              "\n",
              "    .dataframe tbody tr th {\n",
              "        vertical-align: top;\n",
              "    }\n",
              "\n",
              "    .dataframe thead th {\n",
              "        text-align: right;\n",
              "    }\n",
              "</style>\n",
              "<table border=\"1\" class=\"dataframe\">\n",
              "  <thead>\n",
              "    <tr style=\"text-align: right;\">\n",
              "      <th></th>\n",
              "      <th>tweet_text</th>\n",
              "      <th>positive</th>\n",
              "      <th>negative</th>\n",
              "      <th>neutral</th>\n",
              "      <th>compound</th>\n",
              "    </tr>\n",
              "  </thead>\n",
              "  <tbody>\n",
              "    <tr>\n",
              "      <th>0</th>\n",
              "      <td>The reason why America isn’t recovering from C...</td>\n",
              "      <td>0.000</td>\n",
              "      <td>0.000</td>\n",
              "      <td>1.000</td>\n",
              "      <td>0.0000</td>\n",
              "    </tr>\n",
              "    <tr>\n",
              "      <th>1</th>\n",
              "      <td>The reason why America isn’t recovering from C...</td>\n",
              "      <td>0.000</td>\n",
              "      <td>0.000</td>\n",
              "      <td>1.000</td>\n",
              "      <td>0.0000</td>\n",
              "    </tr>\n",
              "    <tr>\n",
              "      <th>2</th>\n",
              "      <td>This is the first year I'm not going to Dubai ...</td>\n",
              "      <td>0.194</td>\n",
              "      <td>0.168</td>\n",
              "      <td>0.638</td>\n",
              "      <td>0.4588</td>\n",
              "    </tr>\n",
              "    <tr>\n",
              "      <th>3</th>\n",
              "      <td>DM agra has issued u a notice for baseless ali...</td>\n",
              "      <td>0.000</td>\n",
              "      <td>0.000</td>\n",
              "      <td>1.000</td>\n",
              "      <td>0.0000</td>\n",
              "    </tr>\n",
              "    <tr>\n",
              "      <th>4</th>\n",
              "      <td>The Covid-19 pandemic is threatening vital rai...</td>\n",
              "      <td>0.115</td>\n",
              "      <td>0.309</td>\n",
              "      <td>0.576</td>\n",
              "      <td>-0.5719</td>\n",
              "    </tr>\n",
              "  </tbody>\n",
              "</table>\n",
              "</div>"
            ],
            "text/plain": [
              "                                          tweet_text  ...  compound\n",
              "0  The reason why America isn’t recovering from C...  ...    0.0000\n",
              "1  The reason why America isn’t recovering from C...  ...    0.0000\n",
              "2  This is the first year I'm not going to Dubai ...  ...    0.4588\n",
              "3  DM agra has issued u a notice for baseless ali...  ...    0.0000\n",
              "4  The Covid-19 pandemic is threatening vital rai...  ...   -0.5719\n",
              "\n",
              "[5 rows x 5 columns]"
            ]
          },
          "metadata": {
            "tags": []
          },
          "execution_count": 11
        }
      ]
    }
  ]
}